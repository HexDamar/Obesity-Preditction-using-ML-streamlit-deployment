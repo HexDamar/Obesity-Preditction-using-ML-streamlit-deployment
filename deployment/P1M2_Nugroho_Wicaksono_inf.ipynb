{
 "cells": [
  {
   "cell_type": "code",
   "execution_count": 1,
   "metadata": {},
   "outputs": [],
   "source": [
    "# import libraries\n",
    "import pandas as pd\n",
    "import pickle"
   ]
  },
  {
   "cell_type": "code",
   "execution_count": 2,
   "metadata": {},
   "outputs": [],
   "source": [
    "data = {\n",
    "    \"Gender\": \"Female\",\n",
    "    \"Age\": 30,\n",
    "    \"Height\": 1.71,\n",
    "    \"Weight\": 82,\n",
    "    \"family_history_with_overweight\": \"yes\",\n",
    "    \"FAVC\": \"yes\",\n",
    "    \"FCVC\": 3,\n",
    "    \"NCP\": 4,\n",
    "    \"CAEC\": \"Frequently\",\n",
    "    \"SMOKE\": \"yes\",\n",
    "    \"CH2O\": 1,\n",
    "    \"SCC\": \"no\",\n",
    "    \"FAF\": 0,\n",
    "    \"TUE\": 0,\n",
    "    \"CALC\": \"no\",\n",
    "    \"MTRANS\": \"Automobile\"\n",
    "}\n",
    "data = pd.DataFrame([data])"
   ]
  },
  {
   "cell_type": "code",
   "execution_count": 3,
   "metadata": {},
   "outputs": [],
   "source": [
    "data2 = {\n",
    "    \"Gender\": \"Male\",\n",
    "    \"Age\": 29,\n",
    "    \"Height\": 1.78,\n",
    "    \"Weight\": 60,\n",
    "    \"family_history_with_overweight\": \"no\",\n",
    "    \"FAVC\": \"no\",\n",
    "    \"FCVC\": 3,\n",
    "    \"NCP\": 2,\n",
    "    \"CAEC\": \"Sometimes\",\n",
    "    \"SMOKE\": \"yes\",\n",
    "    \"CH2O\": 1,\n",
    "    \"SCC\": \"yes\",\n",
    "    \"FAF\": 2,\n",
    "    \"TUE\": 0,\n",
    "    \"CALC\": \"no\",\n",
    "    \"MTRANS\": \"Motorbike\"\n",
    "}\n",
    "data2 = pd.DataFrame([data2])"
   ]
  },
  {
   "cell_type": "code",
   "execution_count": 4,
   "metadata": {},
   "outputs": [],
   "source": [
    "# load model\n",
    "with open ('model.pkl', 'rb') as file:\n",
    "    model = pickle.load(file)"
   ]
  },
  {
   "cell_type": "code",
   "execution_count": 5,
   "metadata": {},
   "outputs": [
    {
     "data": {
      "text/plain": [
       "array([1])"
      ]
     },
     "execution_count": 5,
     "metadata": {},
     "output_type": "execute_result"
    }
   ],
   "source": [
    "model.predict(data2)"
   ]
  },
  {
   "cell_type": "code",
   "execution_count": 6,
   "metadata": {},
   "outputs": [
    {
     "data": {
      "text/plain": [
       "array([3])"
      ]
     },
     "execution_count": 6,
     "metadata": {},
     "output_type": "execute_result"
    }
   ],
   "source": [
    "model.predict(data)"
   ]
  }
 ],
 "metadata": {
  "kernelspec": {
   "display_name": "base",
   "language": "python",
   "name": "python3"
  },
  "language_info": {
   "codemirror_mode": {
    "name": "ipython",
    "version": 3
   },
   "file_extension": ".py",
   "mimetype": "text/x-python",
   "name": "python",
   "nbconvert_exporter": "python",
   "pygments_lexer": "ipython3",
   "version": "3.13.2 | packaged by Anaconda, Inc. | (main, Feb  6 2025, 18:49:14) [MSC v.1929 64 bit (AMD64)]"
  },
  "orig_nbformat": 4,
  "vscode": {
   "interpreter": {
    "hash": "0e331f7de4d625c976c1574171d7b27535ffb5ee41de4472cc9c21b78b2fab5e"
   }
  }
 },
 "nbformat": 4,
 "nbformat_minor": 2
}
